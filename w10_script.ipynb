{
 "cells": [
  {
   "cell_type": "code",
   "execution_count": 52,
   "metadata": {
    "colab": {
     "base_uri": "https://localhost:8080/"
    },
    "id": "JuFb1MP_O5EW",
    "outputId": "17a158d8-8df8-4af8-d8cb-b15b95e590c3"
   },
   "outputs": [],
   "source": [
    "import pandas as pd\n",
    "from mlxtend.preprocessing import TransactionEncoder\n",
    "from mlxtend.frequent_patterns import apriori\n",
    "from mlxtend.frequent_patterns import association_rules"
   ]
  },
  {
   "cell_type": "markdown",
   "metadata": {
    "id": "wDYkmRlZPSXY"
   },
   "source": [
    "# Association Rule for Store Dataset"
   ]
  },
  {
   "cell_type": "markdown",
   "metadata": {
    "id": "IYfOAa9fPjln"
   },
   "source": [
    "In this case study, we will explore how association rule can be used to analyze the items that are usualy purcased together.\n",
    "\n",
    "you can refer to this article to find out about apriori and association rule:\n",
    "https://rasbt.github.io/mlxtend/user_guide/frequent_patterns/apriori/\n",
    "https://rasbt.github.io/mlxtend/user_guide/frequent_patterns/association_rules/"
   ]
  },
  {
   "cell_type": "markdown",
   "metadata": {
    "id": "7EOg6BIYPxt4"
   },
   "source": [
    "## Load Data"
   ]
  },
  {
   "cell_type": "markdown",
   "metadata": {
    "id": "Gp0OZCjrQT1n"
   },
   "source": [
    "We will use the dataset of the transaction in a certain store. You can get the dataset here: \n",
    "https://gist.githubusercontent.com/Harsh-Git-Hub/2979ec48043928ad9033d8469928e751/raw/72de943e040b8bd0d087624b154d41b2ba9d9b60/retail_dataset.csv"
   ]
  },
  {
   "cell_type": "code",
   "execution_count": 53,
   "metadata": {
    "colab": {
     "base_uri": "https://localhost:8080/",
     "height": 204
    },
    "id": "LDF65VBRQjFL",
    "outputId": "e9c6b17c-3450-4b26-af48-e963cc0dd11b"
   },
   "outputs": [
    {
     "data": {
      "text/html": [
       "<div>\n",
       "<style scoped>\n",
       "    .dataframe tbody tr th:only-of-type {\n",
       "        vertical-align: middle;\n",
       "    }\n",
       "\n",
       "    .dataframe tbody tr th {\n",
       "        vertical-align: top;\n",
       "    }\n",
       "\n",
       "    .dataframe thead th {\n",
       "        text-align: right;\n",
       "    }\n",
       "</style>\n",
       "<table border=\"1\" class=\"dataframe\">\n",
       "  <thead>\n",
       "    <tr style=\"text-align: right;\">\n",
       "      <th></th>\n",
       "      <th>0</th>\n",
       "      <th>1</th>\n",
       "      <th>2</th>\n",
       "      <th>3</th>\n",
       "      <th>4</th>\n",
       "      <th>5</th>\n",
       "      <th>6</th>\n",
       "    </tr>\n",
       "  </thead>\n",
       "  <tbody>\n",
       "    <tr>\n",
       "      <th>0</th>\n",
       "      <td>Bread</td>\n",
       "      <td>Wine</td>\n",
       "      <td>Eggs</td>\n",
       "      <td>Meat</td>\n",
       "      <td>Cheese</td>\n",
       "      <td>Pencil</td>\n",
       "      <td>Diaper</td>\n",
       "    </tr>\n",
       "    <tr>\n",
       "      <th>1</th>\n",
       "      <td>Bread</td>\n",
       "      <td>Cheese</td>\n",
       "      <td>Meat</td>\n",
       "      <td>Diaper</td>\n",
       "      <td>Wine</td>\n",
       "      <td>Milk</td>\n",
       "      <td>Pencil</td>\n",
       "    </tr>\n",
       "    <tr>\n",
       "      <th>2</th>\n",
       "      <td>Cheese</td>\n",
       "      <td>Meat</td>\n",
       "      <td>Eggs</td>\n",
       "      <td>Milk</td>\n",
       "      <td>Wine</td>\n",
       "      <td>NaN</td>\n",
       "      <td>NaN</td>\n",
       "    </tr>\n",
       "    <tr>\n",
       "      <th>3</th>\n",
       "      <td>Cheese</td>\n",
       "      <td>Meat</td>\n",
       "      <td>Eggs</td>\n",
       "      <td>Milk</td>\n",
       "      <td>Wine</td>\n",
       "      <td>NaN</td>\n",
       "      <td>NaN</td>\n",
       "    </tr>\n",
       "    <tr>\n",
       "      <th>4</th>\n",
       "      <td>Meat</td>\n",
       "      <td>Pencil</td>\n",
       "      <td>Wine</td>\n",
       "      <td>NaN</td>\n",
       "      <td>NaN</td>\n",
       "      <td>NaN</td>\n",
       "      <td>NaN</td>\n",
       "    </tr>\n",
       "  </tbody>\n",
       "</table>\n",
       "</div>"
      ],
      "text/plain": [
       "        0       1     2       3       4       5       6\n",
       "0   Bread    Wine  Eggs    Meat  Cheese  Pencil  Diaper\n",
       "1   Bread  Cheese  Meat  Diaper    Wine    Milk  Pencil\n",
       "2  Cheese    Meat  Eggs    Milk    Wine     NaN     NaN\n",
       "3  Cheese    Meat  Eggs    Milk    Wine     NaN     NaN\n",
       "4    Meat  Pencil  Wine     NaN     NaN     NaN     NaN"
      ]
     },
     "execution_count": 53,
     "metadata": {},
     "output_type": "execute_result"
    }
   ],
   "source": [
    "# load the data set and show the first five transaction\n",
    "dt = pd.read_csv('https://gist.githubusercontent.com/Harsh-Git-Hub/2979ec48043928ad9033d8469928e751/raw/72de943e040b8bd0d087624b154d41b2ba9d9b60/retail_dataset.csv')\n",
    "dt.head()"
   ]
  },
  {
   "cell_type": "markdown",
   "metadata": {
    "id": "IkfhUabDQup9"
   },
   "source": [
    "# Get the set of product that has been purchased\n"
   ]
  },
  {
   "cell_type": "markdown",
   "metadata": {},
   "source": [
    "Get the unique product that has been purchased"
   ]
  },
  {
   "cell_type": "code",
   "execution_count": 54,
   "metadata": {
    "colab": {
     "base_uri": "https://localhost:8080/"
    },
    "id": "Awz6VzuMwR_-",
    "outputId": "1fc181b3-cffe-48fe-9d3b-066323061907"
   },
   "outputs": [
    {
     "name": "stdout",
     "output_type": "stream",
     "text": [
      "['Bagel', 'Wine', 'Eggs', 'Milk', 'Pencil', 'Diaper', 'Cheese', nan, 'Bread', 'Meat']\n"
     ]
    }
   ],
   "source": [
    "unique_items = set()\n",
    "for i in range(0, len(dt)):\n",
    "    for j in range(0, len(dt.columns)):\n",
    "        unique_items.add(dt.values[i,j])\n",
    "unique_items = list(unique_items)\n",
    "print(unique_items)"
   ]
  },
  {
   "cell_type": "markdown",
   "metadata": {
    "id": "M4g4k83bP07H"
   },
   "source": [
    "## Preprocess Data"
   ]
  },
  {
   "cell_type": "markdown",
   "metadata": {
    "id": "GEnL1bXtRLXe"
   },
   "source": [
    "In this step, we will transform our dataset so that we will have a one hot encoding based on the purchased products."
   ]
  },
  {
   "cell_type": "code",
   "execution_count": 55,
   "metadata": {
    "id": "N4wdVmFWQ_yg"
   },
   "outputs": [
    {
     "name": "stdout",
     "output_type": "stream",
     "text": [
      "[['Bread', 'Wine', 'Eggs', 'Meat', 'Cheese', 'Pencil', 'Diaper'], ['Bread', 'Cheese', 'Meat', 'Diaper', 'Wine', 'Milk', 'Pencil'], ['Cheese', 'Meat', 'Eggs', 'Milk', 'Wine', 'nan', 'nan'], ['Cheese', 'Meat', 'Eggs', 'Milk', 'Wine', 'nan', 'nan'], ['Meat', 'Pencil', 'Wine', 'nan', 'nan', 'nan', 'nan'], ['Eggs', 'Bread', 'Wine', 'Pencil', 'Milk', 'Diaper', 'Bagel'], ['Wine', 'Pencil', 'Eggs', 'Cheese', 'nan', 'nan', 'nan'], ['Bagel', 'Bread', 'Milk', 'Pencil', 'Diaper', 'nan', 'nan'], ['Bread', 'Diaper', 'Cheese', 'Milk', 'Wine', 'Eggs', 'nan'], ['Bagel', 'Wine', 'Diaper', 'Meat', 'Pencil', 'Eggs', 'Cheese'], ['Cheese', 'Meat', 'Eggs', 'Milk', 'Wine', 'nan', 'nan'], ['Bagel', 'Eggs', 'Meat', 'Bread', 'Diaper', 'Wine', 'Milk'], ['Bread', 'Diaper', 'Pencil', 'Bagel', 'Meat', 'nan', 'nan'], ['Bagel', 'Cheese', 'Milk', 'Meat', 'nan', 'nan', 'nan'], ['Bread', 'nan', 'nan', 'nan', 'nan', 'nan', 'nan'], ['Pencil', 'Diaper', 'Bagel', 'nan', 'nan', 'nan', 'nan'], ['Meat', 'Bagel', 'Bread', 'nan', 'nan', 'nan', 'nan'], ['Bread', 'Bagel', 'Milk', 'nan', 'nan', 'nan', 'nan'], ['Diaper', 'nan', 'nan', 'nan', 'nan', 'nan', 'nan'], ['Bagel', 'Cheese', 'Meat', 'Bread', 'Diaper', 'Eggs', 'nan'], ['Meat', 'Pencil', 'Cheese', 'Bread', 'nan', 'nan', 'nan'], ['Cheese', 'Eggs', 'Wine', 'Bread', 'Milk', 'Pencil', 'Meat'], ['Eggs', 'Bagel', 'Cheese', 'Meat', 'Diaper', 'nan', 'nan'], ['Diaper', 'Wine', 'Eggs', 'Pencil', 'Meat', 'nan', 'nan'], ['Diaper', 'Meat', 'Milk', 'Bread', 'Bagel', 'Cheese', 'nan'], ['Pencil', 'nan', 'nan', 'nan', 'nan', 'nan', 'nan'], ['Cheese', 'Meat', 'Eggs', 'Milk', 'Wine', 'nan', 'nan'], ['Diaper', 'Meat', 'Bread', 'Pencil', 'Wine', 'Cheese', 'Milk'], ['Bread', 'Bagel', 'nan', 'nan', 'nan', 'nan', 'nan'], ['Meat', 'Bread', 'Eggs', 'Cheese', 'Milk', 'Diaper', 'nan'], ['Diaper', 'Meat', 'nan', 'nan', 'nan', 'nan', 'nan'], ['Cheese', 'Bagel', 'Bread', 'Diaper', 'Wine', 'nan', 'nan'], ['Cheese', 'Milk', 'Bread', 'nan', 'nan', 'nan', 'nan'], ['Bread', 'Bagel', 'Milk', 'nan', 'nan', 'nan', 'nan'], ['Diaper', 'Bread', 'Wine', 'Meat', 'Bagel', 'nan', 'nan'], ['Bread', 'Cheese', 'Milk', 'Wine', 'Diaper', 'nan', 'nan'], ['Bread', 'Bagel', 'Milk', 'nan', 'nan', 'nan', 'nan'], ['Bread', 'Bagel', 'Milk', 'nan', 'nan', 'nan', 'nan'], ['Eggs', 'nan', 'nan', 'nan', 'nan', 'nan', 'nan'], ['Bread', 'Bagel', 'Milk', 'nan', 'nan', 'nan', 'nan'], ['Bread', 'Bagel', 'Milk', 'nan', 'nan', 'nan', 'nan'], ['Meat', 'nan', 'nan', 'nan', 'nan', 'nan', 'nan'], ['Eggs', 'Wine', 'Milk', 'Cheese', 'Pencil', 'Bagel', 'Bread'], ['Bagel', 'Eggs', 'nan', 'nan', 'nan', 'nan', 'nan'], ['Diaper', 'Wine', 'Meat', 'nan', 'nan', 'nan', 'nan'], ['Diaper', 'Bread', 'Bagel', 'Eggs', 'Wine', 'Milk', 'Cheese'], ['Cheese', 'Meat', 'Eggs', 'Milk', 'nan', 'nan', 'nan'], ['Eggs', 'Wine', 'nan', 'nan', 'nan', 'nan', 'nan'], ['Cheese', 'Meat', 'Eggs', 'Milk', 'Wine', 'nan', 'nan'], ['Wine', 'Milk', 'nan', 'nan', 'nan', 'nan', 'nan'], ['Diaper', 'nan', 'nan', 'nan', 'nan', 'nan', 'nan'], ['Wine', 'Bread', 'Bagel', 'Diaper', 'Milk', 'nan', 'nan'], ['Cheese', 'Meat', 'Eggs', 'Milk', 'Wine', 'nan', 'nan'], ['Cheese', 'Meat', 'Eggs', 'Milk', 'nan', 'nan', 'nan'], ['Cheese', 'Diaper', 'Meat', 'Wine', 'Bread', 'nan', 'nan'], ['Wine', 'Milk', 'Diaper', 'Pencil', 'Cheese', 'Eggs', 'nan'], ['Cheese', 'Eggs', 'Meat', 'Diaper', 'Wine', 'Milk', 'Bread'], ['Diaper', 'Eggs', 'nan', 'nan', 'nan', 'nan', 'nan'], ['Cheese', 'Meat', 'Eggs', 'Milk', 'Wine', 'nan', 'nan'], ['Wine', 'Cheese', 'Bagel', 'Pencil', 'Bread', 'Meat', 'Diaper'], ['Milk', 'Pencil', 'Cheese', 'Bagel', 'nan', 'nan', 'nan'], ['Meat', 'Cheese', 'Diaper', 'Wine', 'nan', 'nan', 'nan'], ['Bread', 'Bagel', 'Milk', 'nan', 'nan', 'nan', 'nan'], ['Bread', 'Meat', 'Pencil', 'Milk', 'Wine', 'Diaper', 'nan'], ['Pencil', 'Cheese', 'Diaper', 'Wine', 'Eggs', 'nan', 'nan'], ['Bread', 'Diaper', 'Milk', 'Pencil', 'Cheese', 'Eggs', 'nan'], ['Pencil', 'Milk', 'Cheese', 'nan', 'nan', 'nan', 'nan'], ['Eggs', 'Bagel', 'Bread', 'nan', 'nan', 'nan', 'nan'], ['Diaper', 'Bread', 'Cheese', 'Bagel', 'Meat', 'Pencil', 'nan'], ['Bread', 'Bagel', 'Milk', 'Diaper', 'nan', 'nan', 'nan'], ['Eggs', 'Bread', 'nan', 'nan', 'nan', 'nan', 'nan'], ['Pencil', 'Milk', 'Diaper', 'Eggs', 'nan', 'nan', 'nan'], ['Pencil', 'Milk', 'Meat', 'Cheese', 'nan', 'nan', 'nan'], ['Bagel', 'Bread', 'Diaper', 'Cheese', 'Meat', 'nan', 'nan'], ['Cheese', 'Meat', 'Eggs', 'Milk', 'nan', 'nan', 'nan'], ['Cheese', 'Meat', 'Eggs', 'Milk', 'nan', 'nan', 'nan'], ['Bread', 'Wine', 'Eggs', 'Bagel', 'Cheese', 'Pencil', 'Diaper'], ['Diaper', 'nan', 'nan', 'nan', 'nan', 'nan', 'nan'], ['Cheese', 'Meat', 'Eggs', 'Milk', 'nan', 'nan', 'nan'], ['Milk', 'nan', 'nan', 'nan', 'nan', 'nan', 'nan'], ['Bread', 'Pencil', 'nan', 'nan', 'nan', 'nan', 'nan'], ['Wine', 'Milk', 'Cheese', 'nan', 'nan', 'nan', 'nan'], ['Cheese', 'Bagel', 'nan', 'nan', 'nan', 'nan', 'nan'], ['Pencil', 'Diaper', 'Wine', 'nan', 'nan', 'nan', 'nan'], ['Eggs', 'Meat', 'Cheese', 'nan', 'nan', 'nan', 'nan'], ['Meat', 'Bagel', 'Pencil', 'nan', 'nan', 'nan', 'nan'], ['Meat', 'Eggs', 'Bagel', 'Cheese', 'Wine', 'nan', 'nan'], ['Bread', 'Cheese', 'Wine', 'Bagel', 'Milk', 'Meat', 'nan'], ['Meat', 'Cheese', 'Pencil', 'Wine', 'Bread', 'nan', 'nan'], ['Milk', 'Cheese', 'Wine', 'Bagel', 'Meat', 'Pencil', 'Bread'], ['Pencil', 'Cheese', 'Wine', 'Milk', 'Diaper', 'Bagel', 'nan'], ['Bread', 'Bagel', 'Milk', 'nan', 'nan', 'nan', 'nan'], ['Cheese', 'Meat', 'Eggs', 'Milk', 'nan', 'nan', 'nan'], ['Cheese', 'Diaper', 'Pencil', 'Bagel', 'Wine', 'Meat', 'Eggs'], ['Eggs', 'Meat', 'Wine', 'Bagel', 'Milk', 'Cheese', 'Diaper'], ['Meat', 'nan', 'nan', 'nan', 'nan', 'nan', 'nan'], ['Bread', 'Bagel', 'Milk', 'nan', 'nan', 'nan', 'nan'], ['Pencil', 'nan', 'nan', 'nan', 'nan', 'nan', 'nan'], ['Wine', 'Diaper', 'Bread', 'Cheese', 'nan', 'nan', 'nan'], ['Bagel', 'Pencil', 'Wine', 'Meat', 'nan', 'nan', 'nan'], ['Wine', 'Bread', 'nan', 'nan', 'nan', 'nan', 'nan'], ['Bread', 'Milk', 'Eggs', 'Cheese', 'Wine', 'Pencil', 'nan'], ['Cheese', 'Milk', 'Meat', 'Eggs', 'Bagel', 'nan', 'nan'], ['Cheese', 'Meat', 'Eggs', 'Milk', 'nan', 'nan', 'nan'], ['Diaper', 'Wine', 'Meat', 'Eggs', 'nan', 'nan', 'nan'], ['Meat', 'Diaper', 'nan', 'nan', 'nan', 'nan', 'nan'], ['Pencil', 'Wine', 'Bread', 'Milk', 'nan', 'nan', 'nan'], ['Bagel', 'Bread', 'Eggs', 'Milk', 'Pencil', 'Meat', 'Wine'], ['Milk', 'Cheese', 'Wine', 'Meat', 'Bagel', 'Diaper', 'Bread'], ['Bagel', 'Diaper', 'Milk', 'Cheese', 'Wine', 'nan', 'nan'], ['Bread', 'Bagel', 'Milk', 'nan', 'nan', 'nan', 'nan'], ['Diaper', 'nan', 'nan', 'nan', 'nan', 'nan', 'nan'], ['Bagel', 'Pencil', 'Bread', 'Cheese', 'Eggs', 'nan', 'nan'], ['Bread', 'Eggs', 'Cheese', 'nan', 'nan', 'nan', 'nan'], ['Meat', 'Milk', 'Pencil', 'nan', 'nan', 'nan', 'nan'], ['Bread', 'Cheese', 'Eggs', 'Meat', 'Pencil', 'Diaper', 'Wine'], ['Meat', 'Cheese', 'nan', 'nan', 'nan', 'nan', 'nan'], ['Eggs', 'Wine', 'Bagel', 'Bread', 'Meat', 'nan', 'nan'], ['Bagel', 'Cheese', 'nan', 'nan', 'nan', 'nan', 'nan'], ['Bagel', 'Pencil', 'Diaper', 'Wine', 'Meat', 'nan', 'nan'], ['Milk', 'Pencil', 'nan', 'nan', 'nan', 'nan', 'nan'], ['Pencil', 'Wine', 'Bagel', 'Eggs', 'Diaper', 'nan', 'nan'], ['Bread', 'Meat', 'Milk', 'Cheese', 'Wine', 'Eggs', 'Pencil'], ['Bread', 'Bagel', 'Milk', 'nan', 'nan', 'nan', 'nan'], ['Pencil', 'Bread', 'nan', 'nan', 'nan', 'nan', 'nan'], ['Eggs', 'Milk', 'Bagel', 'Wine', 'nan', 'nan', 'nan'], ['Cheese', 'Pencil', 'Meat', 'Eggs', 'Milk', 'Bagel', 'Wine'], ['Cheese', 'Milk', 'nan', 'nan', 'nan', 'nan', 'nan'], ['Diaper', 'Pencil', 'Milk', 'Bread', 'nan', 'nan', 'nan'], ['Bread', 'Bagel', 'Milk', 'nan', 'nan', 'nan', 'nan'], ['Cheese', 'Meat', 'Eggs', 'Milk', 'nan', 'nan', 'nan'], ['Bread', 'Bagel', 'Milk', 'nan', 'nan', 'nan', 'nan'], ['Diaper', 'nan', 'nan', 'nan', 'nan', 'nan', 'nan'], ['Meat', 'Bread', 'Wine', 'Diaper', 'Bagel', 'nan', 'nan'], ['Bagel', 'nan', 'nan', 'nan', 'nan', 'nan', 'nan'], ['Wine', 'Diaper', 'nan', 'nan', 'nan', 'nan', 'nan'], ['Meat', 'Diaper', 'Eggs', 'Cheese', 'Bagel', 'nan', 'nan'], ['Bread', 'Pencil', 'Bagel', 'Eggs', 'nan', 'nan', 'nan'], ['Milk', 'Eggs', 'Meat', 'Cheese', 'Bread', 'Wine', 'Pencil'], ['Pencil', 'Eggs', 'Meat', 'nan', 'nan', 'nan', 'nan'], ['Pencil', 'Bagel', 'nan', 'nan', 'nan', 'nan', 'nan'], ['Bread', 'Bagel', 'Meat', 'Cheese', 'Eggs', 'Pencil', 'nan'], ['Milk', 'Eggs', 'Bread', 'Cheese', 'nan', 'nan', 'nan'], ['Milk', 'nan', 'nan', 'nan', 'nan', 'nan', 'nan'], ['Pencil', 'Meat', 'Bread', 'Bagel', 'Cheese', 'nan', 'nan'], ['Wine', 'Eggs', 'Bread', 'Diaper', 'nan', 'nan', 'nan'], ['Meat', 'Cheese', 'Eggs', 'Bagel', 'Wine', 'Bread', 'nan'], ['Meat', 'Cheese', 'Bread', 'Milk', 'nan', 'nan', 'nan'], ['Cheese', 'Milk', 'Pencil', 'Eggs', 'Bread', 'Meat', 'nan'], ['Bread', 'nan', 'nan', 'nan', 'nan', 'nan', 'nan'], ['Bread', 'Eggs', 'Bagel', 'Diaper', 'Milk', 'Meat', 'Pencil'], ['Milk', 'Diaper', 'nan', 'nan', 'nan', 'nan', 'nan'], ['Cheese', 'Eggs', 'Meat', 'Wine', 'Bagel', 'Diaper', 'Bread'], ['Diaper', 'Bagel', 'Bread', 'Pencil', 'Cheese', 'Milk', 'nan'], ['Diaper', 'nan', 'nan', 'nan', 'nan', 'nan', 'nan'], ['Cheese', 'Meat', 'Eggs', 'Milk', 'nan', 'nan', 'nan'], ['Cheese', 'Wine', 'Meat', 'Bagel', 'nan', 'nan', 'nan'], ['Cheese', 'Diaper', 'Eggs', 'Milk', 'nan', 'nan', 'nan'], ['Wine', 'Cheese', 'Meat', 'Pencil', 'Eggs', 'nan', 'nan'], ['Eggs', 'Bagel', 'Pencil', 'Wine', 'Cheese', 'nan', 'nan'], ['Bagel', 'Diaper', 'nan', 'nan', 'nan', 'nan', 'nan'], ['Meat', 'nan', 'nan', 'nan', 'nan', 'nan', 'nan'], ['Bread', 'Eggs', 'Wine', 'nan', 'nan', 'nan', 'nan'], ['Bread', 'Milk', 'Pencil', 'Wine', 'Eggs', 'Bagel', 'nan'], ['Milk', 'Bread', 'Bagel', 'nan', 'nan', 'nan', 'nan'], ['Bagel', 'Eggs', 'nan', 'nan', 'nan', 'nan', 'nan'], ['Wine', 'Cheese', 'Milk', 'Meat', 'Bread', 'Eggs', 'nan'], ['Meat', 'Wine', 'nan', 'nan', 'nan', 'nan', 'nan'], ['Wine', 'Bread', 'nan', 'nan', 'nan', 'nan', 'nan'], ['Meat', 'Eggs', 'nan', 'nan', 'nan', 'nan', 'nan'], ['Bagel', 'Milk', 'Wine', 'Pencil', 'Cheese', 'nan', 'nan'], ['Cheese', 'Meat', 'Eggs', 'Milk', 'nan', 'nan', 'nan'], ['Bread', 'Diaper', 'Pencil', 'Bagel', 'Cheese', 'nan', 'nan'], ['Bread', 'Pencil', 'Diaper', 'Cheese', 'nan', 'nan', 'nan'], ['Cheese', 'Meat', 'Eggs', 'Milk', 'nan', 'nan', 'nan'], ['Eggs', 'Bagel', 'Meat', 'Diaper', 'Pencil', 'Milk', 'Bread'], ['Bread', 'Bagel', 'Milk', 'nan', 'nan', 'nan', 'nan'], ['Diaper', 'Meat', 'Wine', 'Pencil', 'Bread', 'nan', 'nan'], ['Eggs', 'Cheese', 'nan', 'nan', 'nan', 'nan', 'nan'], ['Cheese', 'Pencil', 'Wine', 'nan', 'nan', 'nan', 'nan'], ['Eggs', 'nan', 'nan', 'nan', 'nan', 'nan', 'nan'], ['Pencil', 'Milk', 'Eggs', 'nan', 'nan', 'nan', 'nan'], ['Bagel', 'Cheese', 'Eggs', 'Milk', 'Meat', 'Pencil', 'Bread'], ['Bagel', 'Diaper', 'Pencil', 'Milk', 'Meat', 'nan', 'nan'], ['Cheese', 'Meat', 'Eggs', 'Milk', 'nan', 'nan', 'nan'], ['Cheese', 'Bread', 'Wine', 'nan', 'nan', 'nan', 'nan'], ['Bread', 'Cheese', 'Milk', 'Diaper', 'Pencil', 'nan', 'nan'], ['Milk', 'Pencil', 'Bagel', 'Wine', 'Eggs', 'Meat', 'nan'], ['Wine', 'Milk', 'Eggs', 'Bread', 'Meat', 'nan', 'nan'], ['Bread', 'nan', 'nan', 'nan', 'nan', 'nan', 'nan'], ['Bread', 'Diaper', 'Pencil', 'Meat', 'Wine', 'nan', 'nan'], ['Cheese', 'Pencil', 'nan', 'nan', 'nan', 'nan', 'nan'], ['Bread', 'Diaper', 'nan', 'nan', 'nan', 'nan', 'nan'], ['Bagel', 'Diaper', 'Wine', 'Bread', 'nan', 'nan', 'nan'], ['Wine', 'Bread', 'Diaper', 'nan', 'nan', 'nan', 'nan'], ['Bread', 'Bagel', 'Milk', 'nan', 'nan', 'nan', 'nan'], ['Diaper', 'Bagel', 'nan', 'nan', 'nan', 'nan', 'nan'], ['Bread', 'Meat', 'Pencil', 'Eggs', 'Cheese', 'Milk', 'Wine'], ['Bread', 'Wine', 'Diaper', 'Eggs', 'Pencil', 'nan', 'nan'], ['Bread', 'Wine', 'Diaper', 'Eggs', 'Pencil', 'nan', 'nan'], ['Bread', 'Wine', 'Diaper', 'nan', 'nan', 'nan', 'nan'], ['Bread', 'Wine', 'Diaper', 'Eggs', 'nan', 'nan', 'nan'], ['Bread', 'Wine', 'Diaper', 'Eggs', 'Pencil', 'Milk', 'nan'], ['Wine', 'Pencil', 'Eggs', 'Cheese', 'nan', 'nan', 'nan'], ['Bagel', 'Bread', 'Milk', 'Pencil', 'Diaper', 'nan', 'nan'], ['Bread', 'Diaper', 'Cheese', 'Milk', 'Wine', 'Eggs', 'nan'], ['Bagel', 'Wine', 'Diaper', 'Meat', 'Pencil', 'Eggs', 'Cheese'], ['Cheese', 'Meat', 'Eggs', 'Milk', 'Wine', 'nan', 'nan'], ['Bagel', 'Eggs', 'Meat', 'Bread', 'Diaper', 'Wine', 'Milk'], ['Bread', 'Diaper', 'Pencil', 'Bagel', 'Meat', 'nan', 'nan'], ['Bagel', 'Cheese', 'Milk', 'Meat', 'nan', 'nan', 'nan'], ['Bread', 'nan', 'nan', 'nan', 'nan', 'nan', 'nan'], ['Pencil', 'Diaper', 'Bagel', 'nan', 'nan', 'nan', 'nan'], ['Meat', 'Bagel', 'Bread', 'nan', 'nan', 'nan', 'nan'], ['Bread', 'Bagel', 'Milk', 'nan', 'nan', 'nan', 'nan'], ['Diaper', 'nan', 'nan', 'nan', 'nan', 'nan', 'nan'], ['Bagel', 'Cheese', 'Meat', 'Bread', 'Diaper', 'Eggs', 'nan'], ['Meat', 'Pencil', 'Cheese', 'Bread', 'nan', 'nan', 'nan'], ['Cheese', 'Eggs', 'Wine', 'Bread', 'Milk', 'Pencil', 'Meat'], ['Eggs', 'Bagel', 'Cheese', 'Meat', 'Diaper', 'nan', 'nan'], ['Diaper', 'Wine', 'Eggs', 'Pencil', 'Meat', 'nan', 'nan'], ['Diaper', 'Meat', 'Milk', 'Bread', 'Bagel', 'Cheese', 'nan'], ['Pencil', 'nan', 'nan', 'nan', 'nan', 'nan', 'nan'], ['Cheese', 'Meat', 'Eggs', 'Milk', 'Wine', 'nan', 'nan'], ['Diaper', 'Meat', 'Bread', 'Pencil', 'Wine', 'Cheese', 'Milk'], ['Bread', 'Bagel', 'nan', 'nan', 'nan', 'nan', 'nan'], ['Meat', 'Bread', 'Eggs', 'Cheese', 'Milk', 'Diaper', 'nan'], ['Diaper', 'Meat', 'nan', 'nan', 'nan', 'nan', 'nan'], ['Cheese', 'Bagel', 'Bread', 'Diaper', 'Wine', 'nan', 'nan'], ['Cheese', 'Milk', 'Bread', 'nan', 'nan', 'nan', 'nan'], ['Bread', 'Bagel', 'Milk', 'nan', 'nan', 'nan', 'nan'], ['Diaper', 'Bread', 'Wine', 'Meat', 'Bagel', 'nan', 'nan'], ['Bread', 'Cheese', 'Milk', 'Wine', 'Diaper', 'nan', 'nan'], ['Bread', 'Bagel', 'Milk', 'nan', 'nan', 'nan', 'nan'], ['Bread', 'Bagel', 'Milk', 'nan', 'nan', 'nan', 'nan'], ['Eggs', 'nan', 'nan', 'nan', 'nan', 'nan', 'nan'], ['Bread', 'Bagel', 'Milk', 'nan', 'nan', 'nan', 'nan'], ['Bread', 'Bagel', 'Milk', 'nan', 'nan', 'nan', 'nan'], ['Meat', 'nan', 'nan', 'nan', 'nan', 'nan', 'nan'], ['Eggs', 'Wine', 'Milk', 'Cheese', 'Pencil', 'Bagel', 'Bread'], ['Bagel', 'Eggs', 'nan', 'nan', 'nan', 'nan', 'nan'], ['Diaper', 'Wine', 'Meat', 'nan', 'nan', 'nan', 'nan'], ['Diaper', 'Bread', 'Bagel', 'Eggs', 'Wine', 'Milk', 'Cheese'], ['Cheese', 'Meat', 'Eggs', 'Milk', 'nan', 'nan', 'nan'], ['Eggs', 'Wine', 'nan', 'nan', 'nan', 'nan', 'nan'], ['Cheese', 'Meat', 'Eggs', 'Milk', 'Wine', 'nan', 'nan'], ['Wine', 'Milk', 'nan', 'nan', 'nan', 'nan', 'nan'], ['Diaper', 'nan', 'nan', 'nan', 'nan', 'nan', 'nan'], ['Wine', 'Bread', 'Bagel', 'Diaper', 'Milk', 'nan', 'nan'], ['Cheese', 'Meat', 'Eggs', 'Milk', 'Wine', 'nan', 'nan'], ['Cheese', 'Meat', 'Eggs', 'Milk', 'nan', 'nan', 'nan'], ['Cheese', 'Diaper', 'Meat', 'Wine', 'Bread', 'nan', 'nan'], ['Wine', 'Milk', 'Diaper', 'Pencil', 'Cheese', 'Eggs', 'nan'], ['Cheese', 'Eggs', 'Meat', 'Diaper', 'Wine', 'Milk', 'Bread'], ['Diaper', 'Eggs', 'nan', 'nan', 'nan', 'nan', 'nan'], ['Cheese', 'Meat', 'Eggs', 'Milk', 'Wine', 'nan', 'nan'], ['Wine', 'Cheese', 'Bagel', 'Pencil', 'Bread', 'Meat', 'Diaper'], ['Milk', 'Pencil', 'Cheese', 'Bagel', 'nan', 'nan', 'nan'], ['Meat', 'Cheese', 'Diaper', 'Wine', 'nan', 'nan', 'nan'], ['Bread', 'Bagel', 'Milk', 'nan', 'nan', 'nan', 'nan'], ['Bread', 'Meat', 'Pencil', 'Milk', 'Wine', 'Diaper', 'nan'], ['Pencil', 'Cheese', 'Diaper', 'Wine', 'Eggs', 'nan', 'nan'], ['Bread', 'Diaper', 'Milk', 'Pencil', 'Cheese', 'Eggs', 'nan'], ['Pencil', 'Milk', 'Cheese', 'nan', 'nan', 'nan', 'nan'], ['Eggs', 'Bagel', 'Bread', 'nan', 'nan', 'nan', 'nan'], ['Diaper', 'Bread', 'Cheese', 'Bagel', 'Meat', 'Pencil', 'nan'], ['Bread', 'Bagel', 'Milk', 'Diaper', 'nan', 'nan', 'nan'], ['Eggs', 'Bread', 'nan', 'nan', 'nan', 'nan', 'nan'], ['Pencil', 'Milk', 'Diaper', 'Eggs', 'nan', 'nan', 'nan'], ['Pencil', 'Milk', 'Meat', 'Cheese', 'nan', 'nan', 'nan'], ['Bagel', 'Bread', 'Diaper', 'Cheese', 'Meat', 'nan', 'nan'], ['Cheese', 'Meat', 'Eggs', 'Milk', 'nan', 'nan', 'nan'], ['Cheese', 'Meat', 'Eggs', 'Milk', 'nan', 'nan', 'nan'], ['Bread', 'Wine', 'Eggs', 'Bagel', 'Cheese', 'Pencil', 'Diaper'], ['Diaper', 'nan', 'nan', 'nan', 'nan', 'nan', 'nan'], ['Cheese', 'Meat', 'Eggs', 'Milk', 'nan', 'nan', 'nan'], ['Milk', 'nan', 'nan', 'nan', 'nan', 'nan', 'nan'], ['Bread', 'Pencil', 'nan', 'nan', 'nan', 'nan', 'nan'], ['Wine', 'Milk', 'Cheese', 'nan', 'nan', 'nan', 'nan'], ['Cheese', 'Bagel', 'nan', 'nan', 'nan', 'nan', 'nan'], ['Pencil', 'Diaper', 'Wine', 'nan', 'nan', 'nan', 'nan'], ['Eggs', 'Meat', 'Cheese', 'nan', 'nan', 'nan', 'nan'], ['Meat', 'Bagel', 'Pencil', 'nan', 'nan', 'nan', 'nan'], ['Meat', 'Eggs', 'Bagel', 'Cheese', 'Wine', 'nan', 'nan'], ['Bread', 'Cheese', 'Wine', 'Bagel', 'Milk', 'Meat', 'nan'], ['Meat', 'Cheese', 'Pencil', 'Wine', 'Bread', 'nan', 'nan'], ['Milk', 'Cheese', 'Wine', 'Bagel', 'Meat', 'Pencil', 'Bread'], ['Pencil', 'Cheese', 'Wine', 'Milk', 'Diaper', 'Bagel', 'nan'], ['Bread', 'Bagel', 'Milk', 'nan', 'nan', 'nan', 'nan'], ['Cheese', 'Meat', 'Eggs', 'Milk', 'nan', 'nan', 'nan'], ['Cheese', 'Diaper', 'Pencil', 'Bagel', 'Wine', 'Meat', 'Eggs'], ['Eggs', 'Meat', 'Wine', 'Bagel', 'Milk', 'Cheese', 'Diaper'], ['Meat', 'nan', 'nan', 'nan', 'nan', 'nan', 'nan'], ['Bread', 'Bagel', 'Milk', 'nan', 'nan', 'nan', 'nan'], ['Pencil', 'nan', 'nan', 'nan', 'nan', 'nan', 'nan'], ['Wine', 'Diaper', 'Bread', 'Cheese', 'nan', 'nan', 'nan'], ['Bagel', 'Pencil', 'Wine', 'Meat', 'nan', 'nan', 'nan'], ['Wine', 'Bread', 'nan', 'nan', 'nan', 'nan', 'nan'], ['Bread', 'Milk', 'Eggs', 'Cheese', 'Wine', 'Pencil', 'nan'], ['Cheese', 'Milk', 'Meat', 'Eggs', 'Bagel', 'nan', 'nan'], ['Cheese', 'Meat', 'Eggs', 'Milk', 'nan', 'nan', 'nan'], ['Diaper', 'Wine', 'Meat', 'Eggs', 'nan', 'nan', 'nan'], ['Meat', 'Diaper', 'nan', 'nan', 'nan', 'nan', 'nan'], ['Pencil', 'Wine', 'Bread', 'Milk', 'nan', 'nan', 'nan'], ['Bagel', 'Bread', 'Eggs', 'Milk', 'Pencil', 'Meat', 'Wine'], ['Milk', 'Cheese', 'Wine', 'Meat', 'Bagel', 'Diaper', 'Bread'], ['Bagel', 'Diaper', 'Milk', 'Cheese', 'Wine', 'nan', 'nan'], ['Bread', 'Bagel', 'Milk', 'nan', 'nan', 'nan', 'nan'], ['Diaper', 'nan', 'nan', 'nan', 'nan', 'nan', 'nan'], ['Bagel', 'Pencil', 'Bread', 'Cheese', 'Eggs', 'nan', 'nan'], ['Bread', 'Eggs', 'Cheese', 'nan', 'nan', 'nan', 'nan'], ['Meat', 'Milk', 'Pencil', 'nan', 'nan', 'nan', 'nan'], ['Bread', 'Cheese', 'Eggs', 'Meat', 'Pencil', 'Diaper', 'Wine'], ['Meat', 'Cheese', 'nan', 'nan', 'nan', 'nan', 'nan'], ['Eggs', 'Wine', 'Bagel', 'Bread', 'Meat', 'nan', 'nan']]\n"
     ]
    }
   ],
   "source": [
    "#create an itemset based on the products\n",
    "itemset = []\n",
    "for i in range(0, len(dt)):\n",
    "    itemset.append([str(dt.values[i,j]) for j in range(0, len(dt.columns))])\n",
    "print(itemset)\n",
    "# encoding the feature\n",
    "te = TransactionEncoder()\n",
    "te_ary = te.fit(itemset).transform(itemset)"
   ]
  },
  {
   "cell_type": "code",
   "execution_count": 56,
   "metadata": {
    "colab": {
     "base_uri": "https://localhost:8080/",
     "height": 204
    },
    "id": "v67eBdxByEJX",
    "outputId": "b05c05fb-7ae1-4fbe-a01a-d6985c360f5e"
   },
   "outputs": [
    {
     "data": {
      "text/html": [
       "<div>\n",
       "<style scoped>\n",
       "    .dataframe tbody tr th:only-of-type {\n",
       "        vertical-align: middle;\n",
       "    }\n",
       "\n",
       "    .dataframe tbody tr th {\n",
       "        vertical-align: top;\n",
       "    }\n",
       "\n",
       "    .dataframe thead th {\n",
       "        text-align: right;\n",
       "    }\n",
       "</style>\n",
       "<table border=\"1\" class=\"dataframe\">\n",
       "  <thead>\n",
       "    <tr style=\"text-align: right;\">\n",
       "      <th></th>\n",
       "      <th>Bagel</th>\n",
       "      <th>Bread</th>\n",
       "      <th>Cheese</th>\n",
       "      <th>Diaper</th>\n",
       "      <th>Eggs</th>\n",
       "      <th>Meat</th>\n",
       "      <th>Milk</th>\n",
       "      <th>Pencil</th>\n",
       "      <th>Wine</th>\n",
       "      <th>nan</th>\n",
       "    </tr>\n",
       "  </thead>\n",
       "  <tbody>\n",
       "    <tr>\n",
       "      <th>0</th>\n",
       "      <td>False</td>\n",
       "      <td>True</td>\n",
       "      <td>True</td>\n",
       "      <td>True</td>\n",
       "      <td>True</td>\n",
       "      <td>True</td>\n",
       "      <td>False</td>\n",
       "      <td>True</td>\n",
       "      <td>True</td>\n",
       "      <td>False</td>\n",
       "    </tr>\n",
       "    <tr>\n",
       "      <th>1</th>\n",
       "      <td>False</td>\n",
       "      <td>True</td>\n",
       "      <td>True</td>\n",
       "      <td>True</td>\n",
       "      <td>False</td>\n",
       "      <td>True</td>\n",
       "      <td>True</td>\n",
       "      <td>True</td>\n",
       "      <td>True</td>\n",
       "      <td>False</td>\n",
       "    </tr>\n",
       "    <tr>\n",
       "      <th>2</th>\n",
       "      <td>False</td>\n",
       "      <td>False</td>\n",
       "      <td>True</td>\n",
       "      <td>False</td>\n",
       "      <td>True</td>\n",
       "      <td>True</td>\n",
       "      <td>True</td>\n",
       "      <td>False</td>\n",
       "      <td>True</td>\n",
       "      <td>True</td>\n",
       "    </tr>\n",
       "    <tr>\n",
       "      <th>3</th>\n",
       "      <td>False</td>\n",
       "      <td>False</td>\n",
       "      <td>True</td>\n",
       "      <td>False</td>\n",
       "      <td>True</td>\n",
       "      <td>True</td>\n",
       "      <td>True</td>\n",
       "      <td>False</td>\n",
       "      <td>True</td>\n",
       "      <td>True</td>\n",
       "    </tr>\n",
       "    <tr>\n",
       "      <th>4</th>\n",
       "      <td>False</td>\n",
       "      <td>False</td>\n",
       "      <td>False</td>\n",
       "      <td>False</td>\n",
       "      <td>False</td>\n",
       "      <td>True</td>\n",
       "      <td>False</td>\n",
       "      <td>True</td>\n",
       "      <td>True</td>\n",
       "      <td>True</td>\n",
       "    </tr>\n",
       "  </tbody>\n",
       "</table>\n",
       "</div>"
      ],
      "text/plain": [
       "   Bagel  Bread  Cheese  Diaper   Eggs  Meat   Milk  Pencil  Wine    nan\n",
       "0  False   True    True    True   True  True  False    True  True  False\n",
       "1  False   True    True    True  False  True   True    True  True  False\n",
       "2  False  False    True   False   True  True   True   False  True   True\n",
       "3  False  False    True   False   True  True   True   False  True   True\n",
       "4  False  False   False   False  False  True  False    True  True   True"
      ]
     },
     "execution_count": 56,
     "metadata": {},
     "output_type": "execute_result"
    }
   ],
   "source": [
    "  # create new dataframe from the encoded features\n",
    "itemset_te_encoded = pd.DataFrame(te_ary, columns=te.columns_)\n",
    "  # show the new dataframe\n",
    "itemset_te_encoded.head()"
   ]
  },
  {
   "cell_type": "markdown",
   "metadata": {
    "id": "lBJmzWAAS4Mw"
   },
   "source": [
    "Since, the encoded dataframe consist of the empty column. We will drop the NaN column or select all columns other than the first column."
   ]
  },
  {
   "cell_type": "code",
   "execution_count": 57,
   "metadata": {
    "colab": {
     "base_uri": "https://localhost:8080/",
     "height": 204
    },
    "id": "2eHZu15xyTqm",
    "outputId": "7bffff16-fc02-48fe-bc98-7616bf75908e"
   },
   "outputs": [
    {
     "data": {
      "text/html": [
       "<div>\n",
       "<style scoped>\n",
       "    .dataframe tbody tr th:only-of-type {\n",
       "        vertical-align: middle;\n",
       "    }\n",
       "\n",
       "    .dataframe tbody tr th {\n",
       "        vertical-align: top;\n",
       "    }\n",
       "\n",
       "    .dataframe thead th {\n",
       "        text-align: right;\n",
       "    }\n",
       "</style>\n",
       "<table border=\"1\" class=\"dataframe\">\n",
       "  <thead>\n",
       "    <tr style=\"text-align: right;\">\n",
       "      <th></th>\n",
       "      <th>Bagel</th>\n",
       "      <th>Bread</th>\n",
       "      <th>Cheese</th>\n",
       "      <th>Diaper</th>\n",
       "      <th>Eggs</th>\n",
       "      <th>Meat</th>\n",
       "      <th>Milk</th>\n",
       "      <th>Pencil</th>\n",
       "      <th>Wine</th>\n",
       "    </tr>\n",
       "  </thead>\n",
       "  <tbody>\n",
       "    <tr>\n",
       "      <th>0</th>\n",
       "      <td>False</td>\n",
       "      <td>True</td>\n",
       "      <td>True</td>\n",
       "      <td>True</td>\n",
       "      <td>True</td>\n",
       "      <td>True</td>\n",
       "      <td>False</td>\n",
       "      <td>True</td>\n",
       "      <td>True</td>\n",
       "    </tr>\n",
       "    <tr>\n",
       "      <th>1</th>\n",
       "      <td>False</td>\n",
       "      <td>True</td>\n",
       "      <td>True</td>\n",
       "      <td>True</td>\n",
       "      <td>False</td>\n",
       "      <td>True</td>\n",
       "      <td>True</td>\n",
       "      <td>True</td>\n",
       "      <td>True</td>\n",
       "    </tr>\n",
       "    <tr>\n",
       "      <th>2</th>\n",
       "      <td>False</td>\n",
       "      <td>False</td>\n",
       "      <td>True</td>\n",
       "      <td>False</td>\n",
       "      <td>True</td>\n",
       "      <td>True</td>\n",
       "      <td>True</td>\n",
       "      <td>False</td>\n",
       "      <td>True</td>\n",
       "    </tr>\n",
       "    <tr>\n",
       "      <th>3</th>\n",
       "      <td>False</td>\n",
       "      <td>False</td>\n",
       "      <td>True</td>\n",
       "      <td>False</td>\n",
       "      <td>True</td>\n",
       "      <td>True</td>\n",
       "      <td>True</td>\n",
       "      <td>False</td>\n",
       "      <td>True</td>\n",
       "    </tr>\n",
       "    <tr>\n",
       "      <th>4</th>\n",
       "      <td>False</td>\n",
       "      <td>False</td>\n",
       "      <td>False</td>\n",
       "      <td>False</td>\n",
       "      <td>False</td>\n",
       "      <td>True</td>\n",
       "      <td>False</td>\n",
       "      <td>True</td>\n",
       "      <td>True</td>\n",
       "    </tr>\n",
       "  </tbody>\n",
       "</table>\n",
       "</div>"
      ],
      "text/plain": [
       "   Bagel  Bread  Cheese  Diaper   Eggs  Meat   Milk  Pencil  Wine\n",
       "0  False   True    True    True   True  True  False    True  True\n",
       "1  False   True    True    True  False  True   True    True  True\n",
       "2  False  False    True   False   True  True   True   False  True\n",
       "3  False  False    True   False   True  True   True   False  True\n",
       "4  False  False   False   False  False  True  False    True  True"
      ]
     },
     "execution_count": 57,
     "metadata": {},
     "output_type": "execute_result"
    }
   ],
   "source": [
    "# drop the nan column\n",
    "itemset_te_encoded.drop(['nan'], axis=1, inplace=True)\n",
    "itemset_te_encoded.head()"
   ]
  },
  {
   "cell_type": "markdown",
   "metadata": {
    "id": "_UXDzSNPP35P"
   },
   "source": [
    "## Apriori Algorithm"
   ]
  },
  {
   "cell_type": "markdown",
   "metadata": {
    "id": "K-jD3ea4TYMV"
   },
   "source": [
    "We will use appriori algorithm to determine the frequently purchased products. \n",
    "For this case study, we will min_support=0.2"
   ]
  },
  {
   "cell_type": "code",
   "execution_count": 58,
   "metadata": {
    "colab": {
     "base_uri": "https://localhost:8080/",
     "height": 1000
    },
    "id": "BLA4Jqhoyjof",
    "outputId": "bc435206-1be2-41e6-b05b-0f1ba125e955"
   },
   "outputs": [
    {
     "data": {
      "text/html": [
       "<div>\n",
       "<style scoped>\n",
       "    .dataframe tbody tr th:only-of-type {\n",
       "        vertical-align: middle;\n",
       "    }\n",
       "\n",
       "    .dataframe tbody tr th {\n",
       "        vertical-align: top;\n",
       "    }\n",
       "\n",
       "    .dataframe thead th {\n",
       "        text-align: right;\n",
       "    }\n",
       "</style>\n",
       "<table border=\"1\" class=\"dataframe\">\n",
       "  <thead>\n",
       "    <tr style=\"text-align: right;\">\n",
       "      <th></th>\n",
       "      <th>support</th>\n",
       "      <th>itemsets</th>\n",
       "    </tr>\n",
       "  </thead>\n",
       "  <tbody>\n",
       "    <tr>\n",
       "      <th>0</th>\n",
       "      <td>0.425397</td>\n",
       "      <td>(Bagel)</td>\n",
       "    </tr>\n",
       "    <tr>\n",
       "      <th>1</th>\n",
       "      <td>0.504762</td>\n",
       "      <td>(Bread)</td>\n",
       "    </tr>\n",
       "    <tr>\n",
       "      <th>2</th>\n",
       "      <td>0.501587</td>\n",
       "      <td>(Cheese)</td>\n",
       "    </tr>\n",
       "    <tr>\n",
       "      <th>3</th>\n",
       "      <td>0.406349</td>\n",
       "      <td>(Diaper)</td>\n",
       "    </tr>\n",
       "    <tr>\n",
       "      <th>4</th>\n",
       "      <td>0.438095</td>\n",
       "      <td>(Eggs)</td>\n",
       "    </tr>\n",
       "  </tbody>\n",
       "</table>\n",
       "</div>"
      ],
      "text/plain": [
       "    support  itemsets\n",
       "0  0.425397   (Bagel)\n",
       "1  0.504762   (Bread)\n",
       "2  0.501587  (Cheese)\n",
       "3  0.406349  (Diaper)\n",
       "4  0.438095    (Eggs)"
      ]
     },
     "execution_count": 58,
     "metadata": {},
     "output_type": "execute_result"
    }
   ],
   "source": [
    "frequent_itemsets = apriori(itemset_te_encoded, min_support=0.2, use_colnames=True)\n",
    "frequent_itemsets.head()"
   ]
  },
  {
   "cell_type": "markdown",
   "metadata": {
    "id": "uEr2YXHrVOIA"
   },
   "source": [
    "Then, we will generate association rule of the frequent itemset based on confidence level with the threshold=0.6"
   ]
  },
  {
   "cell_type": "code",
   "execution_count": 59,
   "metadata": {
    "colab": {
     "base_uri": "https://localhost:8080/",
     "height": 482
    },
    "id": "5GalSXOoy6H8",
    "outputId": "2fc5a421-bca1-41c8-f96a-e24f49280d99"
   },
   "outputs": [
    {
     "data": {
      "text/html": [
       "<div>\n",
       "<style scoped>\n",
       "    .dataframe tbody tr th:only-of-type {\n",
       "        vertical-align: middle;\n",
       "    }\n",
       "\n",
       "    .dataframe tbody tr th {\n",
       "        vertical-align: top;\n",
       "    }\n",
       "\n",
       "    .dataframe thead th {\n",
       "        text-align: right;\n",
       "    }\n",
       "</style>\n",
       "<table border=\"1\" class=\"dataframe\">\n",
       "  <thead>\n",
       "    <tr style=\"text-align: right;\">\n",
       "      <th></th>\n",
       "      <th>antecedents</th>\n",
       "      <th>consequents</th>\n",
       "      <th>antecedent support</th>\n",
       "      <th>consequent support</th>\n",
       "      <th>support</th>\n",
       "      <th>confidence</th>\n",
       "      <th>lift</th>\n",
       "      <th>leverage</th>\n",
       "      <th>conviction</th>\n",
       "      <th>zhangs_metric</th>\n",
       "    </tr>\n",
       "  </thead>\n",
       "  <tbody>\n",
       "    <tr>\n",
       "      <th>0</th>\n",
       "      <td>(Bagel)</td>\n",
       "      <td>(Bread)</td>\n",
       "      <td>0.425397</td>\n",
       "      <td>0.504762</td>\n",
       "      <td>0.279365</td>\n",
       "      <td>0.656716</td>\n",
       "      <td>1.301042</td>\n",
       "      <td>0.064641</td>\n",
       "      <td>1.442650</td>\n",
       "      <td>0.402687</td>\n",
       "    </tr>\n",
       "    <tr>\n",
       "      <th>1</th>\n",
       "      <td>(Eggs)</td>\n",
       "      <td>(Cheese)</td>\n",
       "      <td>0.438095</td>\n",
       "      <td>0.501587</td>\n",
       "      <td>0.298413</td>\n",
       "      <td>0.681159</td>\n",
       "      <td>1.358008</td>\n",
       "      <td>0.078670</td>\n",
       "      <td>1.563203</td>\n",
       "      <td>0.469167</td>\n",
       "    </tr>\n",
       "    <tr>\n",
       "      <th>2</th>\n",
       "      <td>(Cheese)</td>\n",
       "      <td>(Meat)</td>\n",
       "      <td>0.501587</td>\n",
       "      <td>0.476190</td>\n",
       "      <td>0.323810</td>\n",
       "      <td>0.645570</td>\n",
       "      <td>1.355696</td>\n",
       "      <td>0.084958</td>\n",
       "      <td>1.477891</td>\n",
       "      <td>0.526414</td>\n",
       "    </tr>\n",
       "    <tr>\n",
       "      <th>3</th>\n",
       "      <td>(Meat)</td>\n",
       "      <td>(Cheese)</td>\n",
       "      <td>0.476190</td>\n",
       "      <td>0.501587</td>\n",
       "      <td>0.323810</td>\n",
       "      <td>0.680000</td>\n",
       "      <td>1.355696</td>\n",
       "      <td>0.084958</td>\n",
       "      <td>1.557540</td>\n",
       "      <td>0.500891</td>\n",
       "    </tr>\n",
       "    <tr>\n",
       "      <th>4</th>\n",
       "      <td>(Cheese)</td>\n",
       "      <td>(Milk)</td>\n",
       "      <td>0.501587</td>\n",
       "      <td>0.501587</td>\n",
       "      <td>0.304762</td>\n",
       "      <td>0.607595</td>\n",
       "      <td>1.211344</td>\n",
       "      <td>0.053172</td>\n",
       "      <td>1.270148</td>\n",
       "      <td>0.350053</td>\n",
       "    </tr>\n",
       "  </tbody>\n",
       "</table>\n",
       "</div>"
      ],
      "text/plain": [
       "  antecedents consequents  antecedent support  consequent support   support  \\\n",
       "0     (Bagel)     (Bread)            0.425397            0.504762  0.279365   \n",
       "1      (Eggs)    (Cheese)            0.438095            0.501587  0.298413   \n",
       "2    (Cheese)      (Meat)            0.501587            0.476190  0.323810   \n",
       "3      (Meat)    (Cheese)            0.476190            0.501587  0.323810   \n",
       "4    (Cheese)      (Milk)            0.501587            0.501587  0.304762   \n",
       "\n",
       "   confidence      lift  leverage  conviction  zhangs_metric  \n",
       "0    0.656716  1.301042  0.064641    1.442650       0.402687  \n",
       "1    0.681159  1.358008  0.078670    1.563203       0.469167  \n",
       "2    0.645570  1.355696  0.084958    1.477891       0.526414  \n",
       "3    0.680000  1.355696  0.084958    1.557540       0.500891  \n",
       "4    0.607595  1.211344  0.053172    1.270148       0.350053  "
      ]
     },
     "execution_count": 59,
     "metadata": {},
     "output_type": "execute_result"
    }
   ],
   "source": [
    "rules = association_rules(frequent_itemsets, metric=\"confidence\", min_threshold=0.6)\n",
    "rules.head()"
   ]
  },
  {
   "cell_type": "markdown",
   "metadata": {},
   "source": [
    "Provide explanation about __antecedent support__, __consequent support__, __support__, __confidence__, __lift__, __leverage__ and __conviction__"
   ]
  },
  {
   "cell_type": "markdown",
   "metadata": {},
   "source": [
    "Antecedent Support: For the rule with \"Bagel,\" about 43% of the shopping trips include buying a bagel.\n",
    "\n",
    "Consequent Support: Thinking about the rule with \"Bread,\" roughly half of the shopping trips involve buying bread.\n",
    "\n",
    "Support: In the rule with \"Bagel\" and \"Bread,\" almost 28% of the shopping trips have both bagels and bread in the cart.\n",
    "\n",
    "Confidence: Looking at the \"Bagel\" and \"Bread\" rule, when someone buys bagels, there's a 66% chance they'll also buy bread.\n",
    "\n",
    "Lift: For the \"Bagel\" and \"Bread\" rule, the chance of buying bread when you buy bagels is 30% higher compared to when they're bought independently.\n",
    "\n",
    "Leverage: In the \"Bagel\" and \"Bread\" rule, there's a small boost in the number of times bagels and bread are bought together compared to what we'd expect if they were bought separately.\n",
    "\n",
    "Conviction: For the \"Bagel\" and \"Bread\" rule, the likelihood of buying bagels without buying bread is 1.44 times higher than what we'd expect if there wasn't a connection between them."
   ]
  }
 ],
 "metadata": {
  "colab": {
   "provenance": []
  },
  "kernelspec": {
   "display_name": "Python 3 (ipykernel)",
   "language": "python",
   "name": "python3"
  },
  "language_info": {
   "codemirror_mode": {
    "name": "ipython",
    "version": 3
   },
   "file_extension": ".py",
   "mimetype": "text/x-python",
   "name": "python",
   "nbconvert_exporter": "python",
   "pygments_lexer": "ipython3",
   "version": "3.10.11"
  }
 },
 "nbformat": 4,
 "nbformat_minor": 4
}
